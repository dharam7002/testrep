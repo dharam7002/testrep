{
  "cells": [
    {
      "cell_type": "markdown",
      "metadata": {
        "id": "view-in-github",
        "colab_type": "text"
      },
      "source": [
        "<a href=\"https://colab.research.google.com/github/dharam7002/testrep/blob/main/CSD_MasterDatabase.ipynb\" target=\"_parent\"><img src=\"https://colab.research.google.com/assets/colab-badge.svg\" alt=\"Open In Colab\"/></a>"
      ]
    },
    {
      "cell_type": "code",
      "execution_count": 103,
      "metadata": {
        "colab": {
          "base_uri": "https://localhost:8080/"
        },
        "id": "8-_cezGQhRm2",
        "outputId": "5497fb11-7b0a-421a-ee02-4f68fd2a03e1"
      },
      "outputs": [
        {
          "output_type": "stream",
          "name": "stdout",
          "text": [
            "Drive already mounted at /content/drive; to attempt to forcibly remount, call drive.mount(\"/content/drive\", force_remount=True).\n"
          ]
        }
      ],
      "source": [
        "from google.colab import drive\n",
        "drive.mount('/content/drive')"
      ]
    },
    {
      "cell_type": "code",
      "execution_count": 104,
      "metadata": {
        "colab": {
          "base_uri": "https://localhost:8080/"
        },
        "id": "-2iwho4Tjt5o",
        "outputId": "f010d30e-d1e3-467e-813a-af49f3108cb0"
      },
      "outputs": [
        {
          "output_type": "stream",
          "name": "stdout",
          "text": [
            "Current working directory: /content/drive/MyDrive/CSD_Masterdatabase_Folder\n"
          ]
        }
      ],
      "source": [
        "import os\n",
        "\n",
        "# Specify the target directory path\n",
        "target_directory = '/content/drive/MyDrive/CSD_Masterdatabase_Folder'\n",
        "\n",
        "# Change the current working directory to the target directory\n",
        "os.chdir(target_directory)\n",
        "\n",
        "# Now, the current working directory is set to the target_directory\n",
        "# You can verify it by printing the current working directory\n",
        "print(\"Current working directory:\", os.getcwd())\n"
      ]
    },
    {
      "cell_type": "code",
      "execution_count": 105,
      "metadata": {
        "id": "nsfTuNW_h_K4"
      },
      "outputs": [],
      "source": [
        "import sqlite3\n",
        "import pandas as pd"
      ]
    },
    {
      "cell_type": "code",
      "execution_count": 106,
      "metadata": {
        "id": "G9orzg8WiGwB"
      },
      "outputs": [],
      "source": [
        "#/content/drive/MyDrive/CSD_Masterdatabase_Folder\n",
        "conn = sqlite3.connect(\"CSD_Masterdatabase.db\") #create sql connection\n",
        "conn.commit()\n",
        "#conn.close()"
      ]
    },
    {
      "cell_type": "code",
      "execution_count": 109,
      "metadata": {
        "id": "I6HKTpL0m_Cj",
        "colab": {
          "base_uri": "https://localhost:8080/"
        },
        "outputId": "27b2cb39-8e86-4e10-9bb0-b3a9c33140bc"
      },
      "outputs": [
        {
          "output_type": "stream",
          "name": "stdout",
          "text": [
            "[]\n"
          ]
        }
      ],
      "source": [
        "# Assuming you already have a SQLite connection named 'conn'\n",
        "curr = conn.cursor()\n",
        "\n",
        "# Use backticks (`) or double quotes (\") around column names with spaces\n",
        "query = \"SELECT 'Email Address', COUNT(*) FROM R2_Int WHERE 'Email Address' LIKE '%@%' GROUP BY 'Email Address';\"\n",
        "\n",
        "curr.execute(query)\n",
        "conn.commit()\n",
        "\n",
        "ans = curr.fetchall()\n",
        "print(ans)\n"
      ]
    },
    {
      "cell_type": "code",
      "execution_count": null,
      "metadata": {
        "id": "pqPIgpuqzeqb"
      },
      "outputs": [],
      "source": [
        "R1_db = pd.read_excel(\"/content/drive/MyDrive/CSD_Masterdatabase_Folder/New_r0_dump_19may-20july.xlsx\")\n",
        "R1_db.info()"
      ]
    },
    {
      "cell_type": "code",
      "execution_count": 130,
      "metadata": {
        "id": "oCzwZo-g6fnK",
        "colab": {
          "base_uri": "https://localhost:8080/"
        },
        "outputId": "81f96fe9-d075-40c6-e049-c0f2b5a9c278"
      },
      "outputs": [
        {
          "output_type": "execute_result",
          "data": {
            "text/plain": [
              "146571"
            ]
          },
          "metadata": {},
          "execution_count": 130
        }
      ],
      "source": [
        "R1_db.to_sql(\"R1_Int\",conn)"
      ]
    },
    {
      "cell_type": "code",
      "execution_count": 131,
      "metadata": {
        "id": "StOcRI1pE7we"
      },
      "outputs": [],
      "source": [
        "Webinar_db = pd.read_excel(\"/content/drive/MyDrive/CSD_Masterdatabase_Folder/Webinar_Attended_19May_20July.xlsx\")"
      ]
    },
    {
      "cell_type": "code",
      "execution_count": null,
      "metadata": {
        "id": "prDiVGB8FNbc"
      },
      "outputs": [],
      "source": [
        "Webinar_db.info()\n",
        "Webinar_db['Webinar Aadhar Number'] = Webinar_db['Webinar Aadhar Number'].astype(str)\n",
        "Webinar_db['Webinar Alt Mobile Number'] = Webinar_db['Webinar Alt Mobile Number'].astype(str)\n",
        "Webinar_db['Notes'] = Webinar_db['Notes'].astype(str)\n",
        "Webinar_db.info()"
      ]
    },
    {
      "cell_type": "code",
      "execution_count": 133,
      "metadata": {
        "id": "zI4J-kVmKv3M"
      },
      "outputs": [],
      "source": [
        "Webinar_db.to_sql(\"Webinar\",conn)\n",
        "curr.execute(\"Select * from Webinar\")\n",
        "conn.commit()\n",
        "res = curr.fetchall()"
      ]
    },
    {
      "cell_type": "code",
      "execution_count": 134,
      "metadata": {
        "id": "TGvDMRFbOou8"
      },
      "outputs": [],
      "source": [
        "S2_db = pd.read_excel(\"/content/drive/MyDrive/CSD_Masterdatabase_Folder/S2_19May_20July.xlsx\")"
      ]
    },
    {
      "cell_type": "code",
      "execution_count": null,
      "metadata": {
        "id": "3ljCikcdO_49"
      },
      "outputs": [],
      "source": [
        "\n",
        "S2_db.info()\n",
        "S2_db.to_sql(\"S2\",conn)"
      ]
    },
    {
      "cell_type": "code",
      "execution_count": 136,
      "metadata": {
        "id": "pUhu6GbHZyPF",
        "colab": {
          "base_uri": "https://localhost:8080/"
        },
        "outputId": "6983030e-d73b-4b48-ad4c-f28d1e8616c3"
      },
      "outputs": [
        {
          "output_type": "execute_result",
          "data": {
            "text/plain": [
              "[(41812,)]"
            ]
          },
          "metadata": {},
          "execution_count": 136
        }
      ],
      "source": [
        "curr.execute(\"select count(*) from S2;\")\n",
        "conn.commit()\n",
        "curr.fetchall()"
      ]
    },
    {
      "cell_type": "code",
      "execution_count": 137,
      "metadata": {
        "id": "tWmcEZjQa-yi"
      },
      "outputs": [],
      "source": [
        "assignment_db = pd.read_excel(\"/content/drive/MyDrive/CSD_Masterdatabase_Folder/Assignment_19may_20july.xlsx\")"
      ]
    },
    {
      "cell_type": "code",
      "execution_count": null,
      "metadata": {
        "id": "jsxyHVVBbVCP"
      },
      "outputs": [],
      "source": [
        "assignment_db.info()\n",
        "assignment_db.to_sql(\"assignment\",conn)\n",
        "curr.execute(\"select count(*) from assignment;\")\n",
        "conn.commit()\n",
        "curr.fetchall()"
      ]
    },
    {
      "cell_type": "code",
      "source": [
        "conn\n",
        "curr.execute(\"SELECT name FROM sqlite_master WHERE type='table';\")\n",
        "conn.commit()\n",
        "curr.fetchall()\n",
        "conn.close()"
      ],
      "metadata": {
        "colab": {
          "base_uri": "https://localhost:8080/",
          "height": 222
        },
        "id": "hawoGA_Tfe3t",
        "outputId": "254d1be0-7523-4898-b8dd-7c43e99a60b6"
      },
      "execution_count": 141,
      "outputs": [
        {
          "output_type": "error",
          "ename": "ProgrammingError",
          "evalue": "ignored",
          "traceback": [
            "\u001b[0;31m---------------------------------------------------------------------------\u001b[0m",
            "\u001b[0;31mProgrammingError\u001b[0m                          Traceback (most recent call last)",
            "\u001b[0;32m<ipython-input-141-5002c7147542>\u001b[0m in \u001b[0;36m<cell line: 1>\u001b[0;34m()\u001b[0m\n\u001b[0;32m----> 1\u001b[0;31m \u001b[0mcurr\u001b[0m\u001b[0;34m.\u001b[0m\u001b[0mexecute\u001b[0m\u001b[0;34m(\u001b[0m\u001b[0;34m\"SELECT name FROM sqlite_master WHERE type='table';\"\u001b[0m\u001b[0;34m)\u001b[0m\u001b[0;34m\u001b[0m\u001b[0;34m\u001b[0m\u001b[0m\n\u001b[0m\u001b[1;32m      2\u001b[0m \u001b[0mconn\u001b[0m\u001b[0;34m.\u001b[0m\u001b[0mcommit\u001b[0m\u001b[0;34m(\u001b[0m\u001b[0;34m)\u001b[0m\u001b[0;34m\u001b[0m\u001b[0;34m\u001b[0m\u001b[0m\n\u001b[1;32m      3\u001b[0m \u001b[0mcurr\u001b[0m\u001b[0;34m.\u001b[0m\u001b[0mfetchall\u001b[0m\u001b[0;34m(\u001b[0m\u001b[0;34m)\u001b[0m\u001b[0;34m\u001b[0m\u001b[0;34m\u001b[0m\u001b[0m\n\u001b[1;32m      4\u001b[0m \u001b[0mconn\u001b[0m\u001b[0;34m.\u001b[0m\u001b[0mclose\u001b[0m\u001b[0;34m(\u001b[0m\u001b[0;34m)\u001b[0m\u001b[0;34m\u001b[0m\u001b[0;34m\u001b[0m\u001b[0m\n",
            "\u001b[0;31mProgrammingError\u001b[0m: Cannot operate on a closed database."
          ]
        }
      ]
    },
    {
      "cell_type": "code",
      "source": [
        "conn = sqlite3.connect(\"CSD_Masterdatabase.db\") #create sql connection"
      ],
      "metadata": {
        "id": "fFqnga4LjaEm"
      },
      "execution_count": 142,
      "outputs": []
    },
    {
      "cell_type": "code",
      "source": [
        "curr = conn.cursor()\n",
        "curr.execute(\"SELECT name FROM sqlite_master WHERE type='table';\")\n",
        "conn.commit()\n",
        "curr.fetchall()"
      ],
      "metadata": {
        "colab": {
          "base_uri": "https://localhost:8080/"
        },
        "id": "K1Dhuc6d0l4E",
        "outputId": "4feb2732-7a9e-41de-b03c-f105d65b6412"
      },
      "execution_count": 145,
      "outputs": [
        {
          "output_type": "execute_result",
          "data": {
            "text/plain": [
              "[('assignment',), ('R1_Int',), ('Webinar',), ('S2',)]"
            ]
          },
          "metadata": {},
          "execution_count": 145
        }
      ]
    },
    {
      "cell_type": "code",
      "source": [
        "R2_df = pd.read_excel(\"/content/drive/MyDrive/CSD_Masterdatabase_Folder/New_R2.xlsx\")\n",
        "R2_df.info()"
      ],
      "metadata": {
        "id": "EmOVHLq81fOP"
      },
      "execution_count": null,
      "outputs": []
    },
    {
      "cell_type": "code",
      "source": [
        "R2_df.to_sql(\"R2_Int\",conn)"
      ],
      "metadata": {
        "colab": {
          "base_uri": "https://localhost:8080/"
        },
        "id": "K-M85OX12Ok9",
        "outputId": "dedb2d42-9435-4d9b-cb8f-0d9bb227e56b"
      },
      "execution_count": 148,
      "outputs": [
        {
          "output_type": "execute_result",
          "data": {
            "text/plain": [
              "30835"
            ]
          },
          "metadata": {},
          "execution_count": 148
        }
      ]
    },
    {
      "cell_type": "code",
      "source": [
        "joinee_db=pd.read_excel(\"/content/drive/MyDrive/CSD_Masterdatabase_Folder/Joinee.xlsx\")\n",
        "joinee_db.head()"
      ],
      "metadata": {
        "id": "MY8IxvrA9bkp"
      },
      "execution_count": null,
      "outputs": []
    },
    {
      "cell_type": "code",
      "source": [
        "# curr.execute(\"drop table joinee\")\n",
        "# conn.commit()\n",
        "joinee_db.info()\n",
        "joinee_db.to_sql(\"joinee\",conn)"
      ],
      "metadata": {
        "colab": {
          "base_uri": "https://localhost:8080/"
        },
        "id": "431vMZ1Y9hWs",
        "outputId": "12da1be5-2f0a-4d3c-ba1b-f3b529a2d76c"
      },
      "execution_count": 160,
      "outputs": [
        {
          "output_type": "stream",
          "name": "stdout",
          "text": [
            "<class 'pandas.core.frame.DataFrame'>\n",
            "RangeIndex: 7152 entries, 0 to 7151\n",
            "Data columns (total 19 columns):\n",
            " #   Column                 Non-Null Count  Dtype         \n",
            "---  ------                 --------------  -----         \n",
            " 0   BU Vertical            7152 non-null   object        \n",
            " 1   SSP DOJ                7152 non-null   datetime64[ns]\n",
            " 2   Role Location          7152 non-null   object        \n",
            " 3   Location Division 1    7152 non-null   object        \n",
            " 4   Location Division 2    6868 non-null   object        \n",
            " 5   SSP ID                 6315 non-null   object        \n",
            " 6   SSP Mail ID            7152 non-null   object        \n",
            " 7   Full Name              7152 non-null   object        \n",
            " 8   Personal Mail ID       7150 non-null   object        \n",
            " 9   Unnamed: 9             7107 non-null   float64       \n",
            " 10  Aadhar Number          5957 non-null   object        \n",
            " 11  R1 Interivewer         7050 non-null   object        \n",
            " 12  R2 Interviewer         6496 non-null   object        \n",
            " 13  Manager                6646 non-null   object        \n",
            " 14  ASM                    6666 non-null   object        \n",
            " 15  AGM                    6667 non-null   object        \n",
            " 16  R1 Interviewer Age     5780 non-null   object        \n",
            " 17  Location Productivity  7152 non-null   float64       \n",
            " 18  SSP Verdict            5035 non-null   object        \n",
            "dtypes: datetime64[ns](1), float64(2), object(16)\n",
            "memory usage: 1.0+ MB\n"
          ]
        },
        {
          "output_type": "execute_result",
          "data": {
            "text/plain": [
              "7152"
            ]
          },
          "metadata": {},
          "execution_count": 160
        }
      ]
    },
    {
      "cell_type": "code",
      "source": [
        "curr = conn.cursor()\n",
        "curr.execute(\"SELECT name FROM sqlite_master WHERE type='table';\")\n",
        "conn.commit()\n",
        "curr.fetchall()"
      ],
      "metadata": {
        "colab": {
          "base_uri": "https://localhost:8080/"
        },
        "id": "ZtYMPe7x9oNd",
        "outputId": "fd2171ff-4049-4303-84ea-0e413980bf14"
      },
      "execution_count": 161,
      "outputs": [
        {
          "output_type": "execute_result",
          "data": {
            "text/plain": [
              "[('assignment',), ('R1_Int',), ('Webinar',), ('S2',), ('R2_Int',), ('joinee',)]"
            ]
          },
          "metadata": {},
          "execution_count": 161
        }
      ]
    },
    {
      "cell_type": "code",
      "source": [
        "tour_db = pd.read_excel(\"/content/drive/MyDrive/CSD_Masterdatabase_Folder/Office Tour.xlsx\")"
      ],
      "metadata": {
        "id": "MXiNnbEH9vVc"
      },
      "execution_count": 162,
      "outputs": []
    },
    {
      "cell_type": "code",
      "source": [
        "tour_db.info()\n",
        "tour_db['Tour Date'] = pd.to_datetime(tour_db['Tour Date'])"
      ],
      "metadata": {
        "id": "bxZRkY4X98pj"
      },
      "execution_count": null,
      "outputs": []
    },
    {
      "cell_type": "code",
      "source": [
        "tour_db.to_sql(\"tour\",conn)"
      ],
      "metadata": {
        "colab": {
          "base_uri": "https://localhost:8080/"
        },
        "id": "CaCHTgwZ-RPO",
        "outputId": "523eb7f0-ee46-4343-f77a-3a343b67da2f"
      },
      "execution_count": 166,
      "outputs": [
        {
          "output_type": "execute_result",
          "data": {
            "text/plain": [
              "4970"
            ]
          },
          "metadata": {},
          "execution_count": 166
        }
      ]
    },
    {
      "cell_type": "code",
      "source": [
        "curr.execute(\"SELECT name FROM sqlite_master WHERE type='table';\")\n",
        "conn.commit()\n",
        "curr.fetchall()\n",
        "conn.close()"
      ],
      "metadata": {
        "id": "n_lzhB1K-WdU"
      },
      "execution_count": 168,
      "outputs": []
    }
  ],
  "metadata": {
    "colab": {
      "provenance": [],
      "include_colab_link": true
    },
    "kernelspec": {
      "display_name": "Python 3",
      "name": "python3"
    },
    "language_info": {
      "name": "python"
    }
  },
  "nbformat": 4,
  "nbformat_minor": 0
}